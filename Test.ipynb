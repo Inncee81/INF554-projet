{
 "cells": [
  {
   "cell_type": "markdown",
   "metadata": {},
   "source": [
    "## Link prediction\n",
    "\n",
    "### 1. Data\n",
    "#### 1.1. Input\n",
    "- node_information.zip: all node files where each file is a node (file name = node id) \n",
    "- training.txt: $[id1,id2,(id1,id2)] \\in training.txt$ where $(id1,id2) = \\begin{cases} 1, &\\text{if }  id1 \\rightarrow id2\\\\ 0, &\\text{otherwise} \\end{cases}$\n",
    "- testing.txt: $[id1,id2,(id1,id2)^*] \\in testing.txt$ \n",
    "\n",
    "#### 1.2. Task\n",
    "Predict $(id1,id2)^* \\in testing.txt$ given the above information \n",
    "\n",
    "#### 1.3. Some ideas"
   ]
  },
  {
   "cell_type": "code",
   "execution_count": null,
   "metadata": {},
   "outputs": [],
   "source": []
  },
  {
   "cell_type": "code",
   "execution_count": null,
   "metadata": {},
   "outputs": [],
   "source": []
  }
 ],
 "metadata": {
  "kernelspec": {
   "display_name": "Python (py37)",
   "language": "python",
   "name": "py37"
  },
  "language_info": {
   "codemirror_mode": {
    "name": "ipython",
    "version": 3
   },
   "file_extension": ".py",
   "mimetype": "text/x-python",
   "name": "python",
   "nbconvert_exporter": "python",
   "pygments_lexer": "ipython3",
   "version": "3.7.3"
  }
 },
 "nbformat": 4,
 "nbformat_minor": 2
}